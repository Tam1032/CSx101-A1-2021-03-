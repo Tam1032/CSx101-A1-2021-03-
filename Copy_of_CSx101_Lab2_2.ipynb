{
  "nbformat": 4,
  "nbformat_minor": 0,
  "metadata": {
    "colab": {
      "name": "Copy of CSx101.Lab2-2.ipynb",
      "provenance": [],
      "collapsed_sections": [],
      "include_colab_link": true
    },
    "kernelspec": {
      "name": "python3",
      "display_name": "Python 3"
    }
  },
  "cells": [
    {
      "cell_type": "markdown",
      "metadata": {
        "id": "view-in-github",
        "colab_type": "text"
      },
      "source": [
        "<a href=\"https://colab.research.google.com/github/Tam1032/CSx101-A1-2021-03-/blob/main/Copy_of_CSx101_Lab2_2.ipynb\" target=\"_parent\"><img src=\"https://colab.research.google.com/assets/colab-badge.svg\" alt=\"Open In Colab\"/></a>"
      ]
    },
    {
      "cell_type": "markdown",
      "metadata": {
        "id": "qYjoagGcuYmq"
      },
      "source": [
        "# CSx101 - TƯ DUY LẬP TRÌNH VỚI PYTHON\n",
        "\n",
        "Lớp CSx101-A1"
      ]
    },
    {
      "cell_type": "markdown",
      "metadata": {
        "id": "9CUHdHZe1Q2F"
      },
      "source": [
        "## Số lớn nhất\n",
        "\n",
        "Viết hàm tính số lớn nhất của 2 hai số"
      ]
    },
    {
      "cell_type": "code",
      "metadata": {
        "id": "Rk-3yHVazWf6",
        "colab": {
          "base_uri": "https://localhost:8080/"
        },
        "outputId": "1db37585-88fd-4292-f83a-c3eb3c858ad8"
      },
      "source": [
        "def calMax(a, b):\n",
        "  # code của bạn ở đây\n",
        "  if(b>a):\n",
        "    return b\n",
        "  else:\n",
        "    return a\n",
        "  \n",
        "a = 5\n",
        "b = 5.01\n",
        "\n",
        "max2 = calMax(a, b)\n",
        "print(max2)\n",
        "\n",
        "# Kết quả 5.01"
      ],
      "execution_count": null,
      "outputs": [
        {
          "output_type": "stream",
          "name": "stdout",
          "text": [
            "5.01\n"
          ]
        }
      ]
    },
    {
      "cell_type": "markdown",
      "metadata": {
        "id": "nmHh7xWnhhp_"
      },
      "source": [
        "## Giai thừa\n",
        "\n",
        "Viết hàm tính giai thừa của $n$\n",
        "\n",
        "$n! = n*(n-1)*(n-2)*...*1$"
      ]
    },
    {
      "cell_type": "code",
      "metadata": {
        "id": "QfjAATq7zZLY",
        "colab": {
          "base_uri": "https://localhost:8080/"
        },
        "outputId": "6e5dd7ac-df7a-442e-d6cb-04478ef762c4"
      },
      "source": [
        "def calFactorial(n):\n",
        "  # code của bạn ở đây\n",
        "  if n<=1:\n",
        "    return 1\n",
        "  return n*calFactorial(n-1)\n",
        "\n",
        "n = 5\n",
        "result = calFactorial(n)\n",
        "print(result)\n",
        "\n",
        "# Kết quả 120"
      ],
      "execution_count": null,
      "outputs": [
        {
          "output_type": "stream",
          "name": "stdout",
          "text": [
            "120\n"
          ]
        }
      ]
    },
    {
      "cell_type": "markdown",
      "metadata": {
        "id": "leCn2xFwubkR"
      },
      "source": [
        "## Số Amstrong\n",
        "Viết hàm trả về số $x$ có phải là số Amstrong hay không. \n",
        "\n",
        "Số nguyên dương có $n$ chữ số là số  Armstrong bậc $n$ nếu:\n",
        "\n",
        "$abcd... = pow(a,n) + pow(b,n) + pow(c,n) + pow(d,n) + .... $\n",
        "\n",
        "Ví dụ: 153 là số Amstrong vì $n=3$ và \n",
        "\n",
        "$1*1*1 + 5*5*5 + 3*3*3 = 153$"
      ]
    },
    {
      "cell_type": "code",
      "metadata": {
        "id": "N2uyMnza1Bkc",
        "colab": {
          "base_uri": "https://localhost:8080/"
        },
        "outputId": "ca797fae-f6e9-4526-b7c6-9ade1d5f771e"
      },
      "source": [
        "def checkAmstrongNumber(x):\n",
        "  # code của bạn ở đây\n",
        "  S = 0\n",
        "  n = len(str(x))\n",
        "  temp = x\n",
        "  while(temp>0):\n",
        "    S += pow(temp%10,n)\n",
        "    temp //=10\n",
        "  return S==x\n",
        "x = 153\n",
        "result = checkAmstrongNumber(x)\n",
        "print(result)\n",
        "\n",
        "# Kết quả True"
      ],
      "execution_count": null,
      "outputs": [
        {
          "output_type": "stream",
          "name": "stdout",
          "text": [
            "True\n"
          ]
        }
      ]
    },
    {
      "cell_type": "markdown",
      "metadata": {
        "id": "mbBv-k2SkFVK"
      },
      "source": [
        "## Số nguyên tố\n",
        "\n",
        "Viết hàm kiểm tra một số nguyên dương $n$ có phải là số nguyên tố hay không.\n",
        "\n",
        "Số nguyên tố là số lớn hơn 1 và không có ước số nào ngoài 1 và chính nó. Ví dụ: {2, 3, 5, 7, 11, ….}."
      ]
    },
    {
      "cell_type": "code",
      "metadata": {
        "id": "oz59rx9g1Fx6",
        "colab": {
          "base_uri": "https://localhost:8080/"
        },
        "outputId": "ab9943ff-9724-42c0-9725-89b043b42b04"
      },
      "source": [
        "def checkPrimeNumber(n):\n",
        "  # code của bạn ở đây\n",
        "  import math\n",
        "  for i in range(2,math.ceil(math.sqrt(n))):\n",
        "    print(i)\n",
        "    if n%i == 0:\n",
        "      return False\n",
        "  return True\n",
        "n = 7\n",
        "result = checkPrimeNumber(n)\n",
        "print(result) \n",
        "\n",
        "# Kết quả True"
      ],
      "execution_count": 34,
      "outputs": [
        {
          "output_type": "stream",
          "name": "stdout",
          "text": [
            "2\n",
            "True\n"
          ]
        }
      ]
    },
    {
      "cell_type": "markdown",
      "metadata": {
        "id": "CMIVvurg2OiU"
      },
      "source": [
        "## Số Fibonaci\n",
        "\n",
        "Viết hàm tính số Fibonaci $F_n$\n",
        "\n",
        "Công thức tính số Fibonaci\n",
        "$F_n = F_{n-1} + F_{n-2}$\n",
        "\n",
        "$F_0 = 0$\n",
        "\n",
        "$F_1 = 1$"
      ]
    },
    {
      "cell_type": "code",
      "metadata": {
        "id": "-3ZMFj3r2TgX",
        "colab": {
          "base_uri": "https://localhost:8080/"
        },
        "outputId": "1f79d815-f052-41dd-dcab-a4e1dc600b2e"
      },
      "source": [
        "def calFibonaci(n):\n",
        "  # code của bạn ở đây\n",
        "  if(n<=2):\n",
        "    return 1\n",
        "  return calFibonaci(n-1)+calFibonaci(n-2)\n",
        "n = 2\n",
        "result = calFibonaci(n)\n",
        "print(result) \n",
        "\n",
        "# Kết quả 1"
      ],
      "execution_count": 13,
      "outputs": [
        {
          "output_type": "stream",
          "name": "stdout",
          "text": [
            "1\n"
          ]
        }
      ]
    },
    {
      "cell_type": "markdown",
      "metadata": {
        "id": "cCyfKs0q4h-X"
      },
      "source": [
        "## Kiểm tra một số có phải là số Fibonaci hay không\n",
        "\n",
        "Viết hàm kiểm tra một số $n$ có phải là số Fibonaci hay không.\n",
        "\n",
        "Các số sau là số Fibonaci: 0, 1, 1, 2, 3, 5, 8, 13, 21, 34, 55, 89, 144,\n",
        "\n",
        "Gợi ý: A number is Fibonacci if and only if one or both of $(5*n2 + 4)$ or $(5*n2 – 4)$ is a perfect square"
      ]
    },
    {
      "cell_type": "code",
      "metadata": {
        "id": "1pfCY9w04nCN",
        "colab": {
          "base_uri": "https://localhost:8080/"
        },
        "outputId": "accccf18-08ea-4a44-aa96-4bbe63432598"
      },
      "source": [
        "def checkFibonaciNumber(n):\n",
        "  # code của bạn ở đây\n",
        "  import math\n",
        "  if (pow(int(math.sqrt(5*pow(n,2)+4)),2)==5*pow(n,2)+4):\n",
        "    return True\n",
        "  if (pow(int(math.sqrt(5*pow(n,2)-4)),2)==5*pow(n,2)+4):\n",
        "    return True\n",
        "  return FalseFalse\n",
        "n = 21\n",
        "result = checkFibonaciNumber(n)\n",
        "print(result) \n",
        "\n",
        "# Kết quả True"
      ],
      "execution_count": 14,
      "outputs": [
        {
          "output_type": "stream",
          "name": "stdout",
          "text": [
            "True\n"
          ]
        }
      ]
    },
    {
      "cell_type": "markdown",
      "metadata": {
        "id": "IQX-kblX6FFL"
      },
      "source": [
        "## Tổng $1^2 + 2^2 + 3^2 + …+ n^2$\n",
        "\n",
        "Viết hàm tính tổng trên "
      ]
    },
    {
      "cell_type": "code",
      "metadata": {
        "id": "9-pRgu5w6P3w",
        "colab": {
          "base_uri": "https://localhost:8080/"
        },
        "outputId": "7a86e90f-adcc-464a-e994-a60859acedf4"
      },
      "source": [
        "def calSquareSum(n):\n",
        "  # code của bạn ở đây\n",
        "  S = 0\n",
        "  for i in range(1,n+1):\n",
        "    S += i**2\n",
        "  return S\n",
        "n = 2\n",
        "result = calSquareSum(n)\n",
        "print(result) \n",
        "\n",
        "# Kết quả 5"
      ],
      "execution_count": 16,
      "outputs": [
        {
          "output_type": "stream",
          "name": "stdout",
          "text": [
            "5\n"
          ]
        }
      ]
    }
  ]
}